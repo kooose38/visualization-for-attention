{
  "nbformat": 4,
  "nbformat_minor": 0,
  "metadata": {
    "colab": {
      "name": "attention-encoder-decoder-6a7ab-4896-402e-bdd4-5b10899ad.ipynb",
      "provenance": [],
      "authorship_tag": "ABX9TyMk9E3q9WA/8y0jY+RghRAZ",
      "include_colab_link": true
    },
    "kernelspec": {
      "name": "python3",
      "display_name": "Python 3"
    },
    "language_info": {
      "name": "python"
    }
  },
  "cells": [
    {
      "cell_type": "markdown",
      "metadata": {
        "id": "view-in-github",
        "colab_type": "text"
      },
      "source": [
        "<a href=\"https://colab.research.google.com/github/kooose38/visualization-for-attention/blob/master/attention_encoder_decoder_6a7ab_4896_402e_bdd4_5b10899ad.ipynb\" target=\"_parent\"><img src=\"https://colab.research.google.com/assets/colab-badge.svg\" alt=\"Open In Colab\"/></a>"
      ]
    },
    {
      "cell_type": "markdown",
      "metadata": {
        "id": "OsQh4uoPk17B"
      },
      "source": [
        "# Encoder Decoder による再起型文章生成タスク\n",
        "目的: アテンションを可視化することで文章生成におけるネットワークの説明性を学習します。  \n",
        "環境: python3.7.11 google-colab  \n",
        "パッケージ: [requirements.txt](https://github.com/kooose38/visualization-for-attention/blob/master/requirements.txt)  \n",
        "参照: [https://qiita.com/m__k/items/646044788c5f94eadc8d](https://qiita.com/m__k/items/646044788c5f94eadc8d)"
      ]
    },
    {
      "cell_type": "markdown",
      "metadata": {
        "id": "QOqqOZydi7rZ"
      },
      "source": [
        "### load dataset "
      ]
    },
    {
      "cell_type": "code",
      "metadata": {
        "colab": {
          "base_uri": "https://localhost:8080/",
          "height": 355
        },
        "id": "R0trLdWAjU9a",
        "outputId": "f7da93b8-6f18-459f-d4da-6dddcf2c7160"
      },
      "source": [
        "filename = \"data.txt\"\n",
        "inputs, labels = [], []\n",
        "\n",
        "with open(filename, \"r\") as f:\n",
        "  data_list = f.readlines()\n",
        "  for data in data_list:\n",
        "    data = data[:-1]\n",
        "    inputs.append(data.split(\"_\")[0])\n",
        "    labels.append(\"_\"+data.split(\"_\")[1])\n",
        "\n",
        "import pandas as pd \n",
        "\n",
        "df = pd.DataFrame({\"before\": inputs, \"after\": labels})\n",
        "df.sample(10)"
      ],
      "execution_count": 26,
      "outputs": [
        {
          "output_type": "execute_result",
          "data": {
            "text/html": [
              "<div>\n",
              "<style scoped>\n",
              "    .dataframe tbody tr th:only-of-type {\n",
              "        vertical-align: middle;\n",
              "    }\n",
              "\n",
              "    .dataframe tbody tr th {\n",
              "        vertical-align: top;\n",
              "    }\n",
              "\n",
              "    .dataframe thead th {\n",
              "        text-align: right;\n",
              "    }\n",
              "</style>\n",
              "<table border=\"1\" class=\"dataframe\">\n",
              "  <thead>\n",
              "    <tr style=\"text-align: right;\">\n",
              "      <th></th>\n",
              "      <th>before</th>\n",
              "      <th>after</th>\n",
              "    </tr>\n",
              "  </thead>\n",
              "  <tbody>\n",
              "    <tr>\n",
              "      <th>46193</th>\n",
              "      <td>jan 15, 1986</td>\n",
              "      <td>_1986-01-15</td>\n",
              "    </tr>\n",
              "    <tr>\n",
              "      <th>42691</th>\n",
              "      <td>DEC 20, 1990</td>\n",
              "      <td>_1990-12-20</td>\n",
              "    </tr>\n",
              "    <tr>\n",
              "      <th>31692</th>\n",
              "      <td>Monday, December 12, 2016</td>\n",
              "      <td>_2016-12-12</td>\n",
              "    </tr>\n",
              "    <tr>\n",
              "      <th>4927</th>\n",
              "      <td>august 29, 2005</td>\n",
              "      <td>_2005-08-29</td>\n",
              "    </tr>\n",
              "    <tr>\n",
              "      <th>24780</th>\n",
              "      <td>FEB 28, 1983</td>\n",
              "      <td>_1983-02-28</td>\n",
              "    </tr>\n",
              "    <tr>\n",
              "      <th>44525</th>\n",
              "      <td>june 20, 1985</td>\n",
              "      <td>_1985-06-20</td>\n",
              "    </tr>\n",
              "    <tr>\n",
              "      <th>18554</th>\n",
              "      <td>APRIL 27, 2002</td>\n",
              "      <td>_2002-04-27</td>\n",
              "    </tr>\n",
              "    <tr>\n",
              "      <th>31363</th>\n",
              "      <td>12/31/06</td>\n",
              "      <td>_2006-12-31</td>\n",
              "    </tr>\n",
              "    <tr>\n",
              "      <th>49566</th>\n",
              "      <td>mar 2, 1986</td>\n",
              "      <td>_1986-03-02</td>\n",
              "    </tr>\n",
              "    <tr>\n",
              "      <th>47664</th>\n",
              "      <td>APRIL 19, 2010</td>\n",
              "      <td>_2010-04-19</td>\n",
              "    </tr>\n",
              "  </tbody>\n",
              "</table>\n",
              "</div>"
            ],
            "text/plain": [
              "                              before        after\n",
              "46193  jan 15, 1986                   _1986-01-15\n",
              "42691  DEC 20, 1990                   _1990-12-20\n",
              "31692  Monday, December 12, 2016      _2016-12-12\n",
              "4927   august 29, 2005                _2005-08-29\n",
              "24780  FEB 28, 1983                   _1983-02-28\n",
              "44525  june 20, 1985                  _1985-06-20\n",
              "18554  APRIL 27, 2002                 _2002-04-27\n",
              "31363  12/31/06                       _2006-12-31\n",
              "49566  mar 2, 1986                    _1986-03-02\n",
              "47664  APRIL 19, 2010                 _2010-04-19"
            ]
          },
          "metadata": {
            "tags": []
          },
          "execution_count": 26
        }
      ]
    },
    {
      "cell_type": "code",
      "metadata": {
        "colab": {
          "base_uri": "https://localhost:8080/"
        },
        "id": "rtHq2IqljU61",
        "outputId": "1308405b-f5d5-442d-e6c6-2d528cdb2743"
      },
      "source": [
        "word2index = {}\n",
        "for inp, lab in zip(inputs, labels):\n",
        "  for i in inp:\n",
        "    if i not in word2index:\n",
        "      word2index[i] = len(word2index)\n",
        "  for t in lab:\n",
        "    if t not in word2index:\n",
        "      word2index[t] = len(word2index)\n",
        "\n",
        "print(word2index)"
      ],
      "execution_count": 27,
      "outputs": [
        {
          "output_type": "stream",
          "text": [
            "{'s': 0, 'e': 1, 'p': 2, 't': 3, 'm': 4, 'b': 5, 'r': 6, ' ': 7, '2': 8, '7': 9, ',': 10, '1': 11, '9': 12, '4': 13, '_': 14, '-': 15, '0': 16, 'A': 17, 'u': 18, 'g': 19, '3': 20, '8': 21, '/': 22, 'T': 23, 'U': 24, 'E': 25, 'S': 26, 'D': 27, 'Y': 28, 'P': 29, 'M': 30, 'B': 31, 'R': 32, '5': 33, 'J': 34, 'N': 35, '6': 36, 'a': 37, 'i': 38, 'l': 39, 'O': 40, 'c': 41, 'o': 42, 'G': 43, 'F': 44, 'y': 45, 'n': 46, 'C': 47, 'W': 48, 'd': 49, 'I': 50, 'L': 51, 'j': 52, 'H': 53, 'v': 54, 'h': 55, 'V': 56, 'f': 57, 'w': 58}\n"
          ],
          "name": "stdout"
        }
      ]
    },
    {
      "cell_type": "markdown",
      "metadata": {
        "id": "8v7s03w7i7kn"
      },
      "source": [
        "### preprocessing"
      ]
    },
    {
      "cell_type": "code",
      "metadata": {
        "id": "GFxqMjyrjV1y"
      },
      "source": [
        "import torch\n",
        "dataset = []\n",
        "\n",
        "for inp, lab in zip(inputs, labels):\n",
        "  data = {}\n",
        "  input_ids = []\n",
        "  labels_ids = []\n",
        "  for i in inp:\n",
        "    idx = word2index[i]\n",
        "    input_ids.append(idx)\n",
        "  for l in lab:\n",
        "    idx = word2index[l]\n",
        "    labels_ids.append(idx)\n",
        "\n",
        "  data[\"input_ids\"] = torch.tensor(input_ids, dtype=torch.long) \n",
        "  data[\"labels\"] = torch.tensor(labels_ids, dtype=torch.long)\n",
        "  dataset.append(data)\n"
      ],
      "execution_count": 28,
      "outputs": []
    },
    {
      "cell_type": "code",
      "metadata": {
        "id": "XwtM1L-YjVxM"
      },
      "source": [
        "n_ = len(dataset)\n",
        "n_train = int(n_*.6)\n",
        "n_val = int(n_*.2)\n",
        "\n",
        "train_ds, val_ds, test_ds = dataset[:n_train], dataset[n_train:n_train+n_val], dataset[n_train+n_val:]\n",
        "\n",
        "from torch.utils.data import DataLoader \n",
        "\n",
        "train = DataLoader(train_ds, batch_size=100, shuffle=True)\n",
        "val = DataLoader(val_ds, batch_size=100, shuffle=True)\n",
        "test = DataLoader(test_ds, batch_size=100, shuffle=True)"
      ],
      "execution_count": 29,
      "outputs": []
    },
    {
      "cell_type": "code",
      "metadata": {
        "colab": {
          "base_uri": "https://localhost:8080/"
        },
        "id": "ZkkvVbjNjVeI",
        "outputId": "1505aa3f-0966-4767-a72d-f5c56d1815a5"
      },
      "source": [
        "for r in train:\n",
        "  print(r[\"input_ids\"].size()) # (batch, encoder_token)\n",
        "  print(r[\"labels\"].size()) # (batch, decoder_token)\n",
        "  print(r[\"input_ids\"])\n",
        "  print(r[\"labels\"])\n",
        "  break"
      ],
      "execution_count": 34,
      "outputs": [
        {
          "output_type": "stream",
          "text": [
            "torch.Size([100, 29])\n",
            "torch.Size([100, 11])\n",
            "tensor([[48,  1, 49,  ..., 12, 21, 16],\n",
            "        [30, 37, 45,  ...,  7,  7,  7],\n",
            "        [26,  1,  2,  ...,  7,  7,  7],\n",
            "        ...,\n",
            "        [23, 18,  1,  ...,  7,  7,  7],\n",
            "        [34, 37, 46,  ...,  7,  7,  7],\n",
            "        [23, 24, 25,  ...,  7,  7,  7]])\n",
            "tensor([[14, 11, 12,  ..., 15, 11,  9],\n",
            "        [14, 11, 12,  ..., 15,  8, 36],\n",
            "        [14,  8, 16,  ..., 15, 16, 13],\n",
            "        ...,\n",
            "        [14, 11, 12,  ..., 15, 11, 33],\n",
            "        [14, 11, 12,  ..., 15, 16, 20],\n",
            "        [14, 11, 12,  ..., 15, 16, 12]])\n"
          ],
          "name": "stdout"
        }
      ]
    },
    {
      "cell_type": "markdown",
      "metadata": {
        "id": "uQPBvrbCi7iM"
      },
      "source": [
        "### Model"
      ]
    },
    {
      "cell_type": "markdown",
      "metadata": {
        "id": "RrWRKO0CwE-d"
      },
      "source": [
        "##### Encoder layers\n"
      ]
    },
    {
      "cell_type": "code",
      "metadata": {
        "id": "zgJC2JHwjaqG"
      },
      "source": [
        "import torch.nn as nn \n",
        "\n",
        "class Encoder(nn.Module):\n",
        "  def __init__(self, embedding_dim, hidden_dim, vocab_size, intermediate_size=1024):\n",
        "    super(Encoder, self).__init__()\n",
        "    self.hidden_dim = hidden_dim\n",
        "    \n",
        "    self.embed = nn.Embedding(vocab_size, embedding_dim, padding_idx=word2index[\" \"])\n",
        "    self.lstm = nn.LSTM(embedding_dim, hidden_dim, batch_first=True)\n",
        "\n",
        "    self.fc = nn.Sequential(\n",
        "        nn.Linear(embedding_dim, hidden_dim),\n",
        "        nn.Dropout(.1),\n",
        "        nn.LayerNorm(hidden_dim)\n",
        "    )\n",
        "    self.norm = nn.LayerNorm(hidden_dim)\n",
        "\n",
        "    self.fc1 = nn.Sequential(\n",
        "        nn.Linear(hidden_dim, intermediate_size),\n",
        "        nn.Dropout(.1),\n",
        "        nn.LayerNorm(intermediate_size),\n",
        "        nn.Linear(intermediate_size, hidden_dim),\n",
        "        nn.GELU(),\n",
        "    )\n",
        "\n",
        "  def forward(self, x):\n",
        "    '''\n",
        "    x: encoder-input-ids (batch, encoder-token)\n",
        "\n",
        "    hs: encoder-all-hidden (batch, encoder-token, hidden_dim)\n",
        "    output: encoder-last-token-hidden (batch, hidden_dim) 1 token\n",
        "    '''\n",
        "    x = self.embed(x)\n",
        "    hs, out = self.lstm(x)\n",
        "    out = out[0].view(-1, self.hidden_dim) # 最後の系列トークンベクトル\n",
        "\n",
        "    xx = x[:, -1, :].view(-1, x.size()[2])\n",
        "    xx = self.fc(xx)\n",
        "\n",
        "    out1 = self.norm(xx+out)\n",
        "    out2 = self.fc1(out1)\n",
        "\n",
        "    output = self.norm(out2+out)\n",
        "\n",
        "    return output, hs "
      ],
      "execution_count": 16,
      "outputs": []
    },
    {
      "cell_type": "code",
      "metadata": {
        "colab": {
          "base_uri": "https://localhost:8080/"
        },
        "id": "sIqF1vCnjaJv",
        "outputId": "8003e937-6d3c-4828-e297-3c5b8acea81e"
      },
      "source": [
        "net = Encoder(100, 20, len(word2index))\n",
        "\n",
        "a = torch.rand(1, 12).long()\n",
        "y, hs = net(a)\n",
        "print(y.size())\n",
        "print(hs.size())"
      ],
      "execution_count": 18,
      "outputs": [
        {
          "output_type": "stream",
          "text": [
            "torch.Size([1, 20])\n",
            "torch.Size([1, 12, 20])\n"
          ],
          "name": "stdout"
        }
      ]
    },
    {
      "cell_type": "markdown",
      "metadata": {
        "id": "UY8Yh7FD0Ihj"
      },
      "source": [
        "#### Decoder layers"
      ]
    },
    {
      "cell_type": "code",
      "metadata": {
        "id": "xPtlkep2jaC4"
      },
      "source": [
        "class Decoder(nn.Module):\n",
        "  def __init__(self, embedding_dim, hidden_dim, vocab_size):\n",
        "    super(Decoder, self).__init__()\n",
        "    self.embedding_dim = embedding_dim\n",
        "    self.hidden_dim = hidden_dim \n",
        "\n",
        "    self.embed = nn.Embedding(vocab_size, embedding_dim, padding_idx=word2index[\" \"])\n",
        "\n",
        "    self.i2h = nn.Linear(embedding_dim+hidden_dim, hidden_dim)\n",
        "    self.i2hs = nn.Linear(embedding_dim+hidden_dim, hidden_dim)\n",
        "    self.i2o = nn.Linear(embedding_dim+hidden_dim, hidden_dim)\n",
        "\n",
        "    self.softmax = nn.Softmax(dim=1)\n",
        "\n",
        "    self.o2o = nn.Sequential(\n",
        "        nn.Linear(hidden_dim+hidden_dim, hidden_dim),\n",
        "        nn.Dropout(.1),\n",
        "        nn.LayerNorm(hidden_dim),\n",
        "        nn.Linear(hidden_dim, vocab_size)\n",
        "    )\n",
        "\n",
        "  def forward(self, x, hidden, encoder_hs):\n",
        "    '''\n",
        "    x: (batch, decode-token) decoder inputs data <<only 1 token>>\n",
        "    hidden: (batch, hidden_dim) encoder last hidden \n",
        "    encoder_hs: (batch, encoder-token, hidden_dim) all hidden to encoder tokens \n",
        "\n",
        "    out: (batch, vocab_size) decoder output <<only 1 token>>\n",
        "    next_hidden: (batch, hidden_dim)\n",
        "    attn: (batch, encode-token, decode-token) attention weights \n",
        "    '''\n",
        "    x = self.embed(x).view(-1, self.embedding_dim)\n",
        "    x_h = torch.cat((x, hidden), dim=1)\n",
        "    # (batch, hidden_dim)\n",
        "    next_hidden = self.i2h(x_h)\n",
        "    decoder_hs = self.i2hs(x_h).unsqueeze(1)\n",
        "    out = self.i2o(x_h)\n",
        "    # encoder_hs * decoder_hs -> (batch, encoder_token, decoder_token)\n",
        "    attn = torch.matmul(encoder_hs, decoder_hs.view(-1, self.hidden_dim, 1))\n",
        "    attn = self.softmax(attn)\n",
        "    # attenstion-wetghts * encoder_hs -> (batch, encoder_token, hidden_dim)\n",
        "    encoder_hs_for_attn = encoder_hs*attn \n",
        "    # (batch, hidden_dim) encoder context vector\n",
        "    encoder_hs_for_attn = torch.sum(encoder_hs_for_attn, axis=1).view(-1, encoder_hs_for_attn.size()[2]) \n",
        "    # transform size for target size classification\n",
        "    out = torch.cat((out, encoder_hs_for_attn), dim=1)\n",
        "    out = self.o2o(out)\n",
        "\n",
        "    return out, next_hidden, attn \n"
      ],
      "execution_count": 84,
      "outputs": []
    },
    {
      "cell_type": "code",
      "metadata": {
        "colab": {
          "base_uri": "https://localhost:8080/"
        },
        "id": "gBxsV3BzjWhZ",
        "outputId": "ea3b5b75-0833-420b-f1cb-72c95b288651"
      },
      "source": [
        "net = Decoder(100, 20, len(word2index))\n",
        "\n",
        "a = torch.rand(3, 12).long()\n",
        "h = torch.rand(3, 20)\n",
        "hs = torch.rand(3, 10, 20)\n",
        "\n",
        "attn = torch.zeros(3, 10, 1)\n",
        "\n",
        "for i in range(a.size()[1]):\n",
        "  aa = a[:, i]\n",
        "  y, h, att = net(aa, h, hs)\n",
        "  attn = torch.cat((attn, att), dim=2)\n",
        "\n",
        "print(y.size())\n",
        "print(h.size())\n",
        "print(attn[:, :, 1:].size())"
      ],
      "execution_count": 25,
      "outputs": [
        {
          "output_type": "stream",
          "text": [
            "torch.Size([3, 58])\n",
            "torch.Size([3, 20])\n",
            "torch.Size([3, 10, 12])\n"
          ],
          "name": "stdout"
        },
        {
          "output_type": "stream",
          "text": [
            "/usr/local/lib/python3.7/dist-packages/ipykernel_launcher.py:40: UserWarning: Implicit dimension choice for softmax has been deprecated. Change the call to include dim=X as an argument.\n"
          ],
          "name": "stderr"
        }
      ]
    },
    {
      "cell_type": "markdown",
      "metadata": {
        "id": "EC6nKMpyi7fz"
      },
      "source": [
        "### training\n",
        "* 教師強制学習\n",
        "* 教師強制なし学習"
      ]
    },
    {
      "cell_type": "code",
      "metadata": {
        "id": "SUV8K4TljXXD"
      },
      "source": [
        "from tqdm import tqdm \n",
        "\n",
        "def trainer(train, val, encoder, decoder, encoder_optimizer, decoder_optimizer, criterion, num_epochs, flg=True):\n",
        "  device = \"cuda:0\" if torch.cuda.is_available() else \"cpu\"\n",
        "  print(f\"device: {device}\")\n",
        "  encoder.to(device)\n",
        "  decoder.to(device)\n",
        "\n",
        "  best_encoder = None \n",
        "  best_decoder = None \n",
        "  best_val_loss = 100000.0\n",
        "\n",
        "  for e in range(num_epochs):\n",
        "    encoder.train()\n",
        "    decoder.train()\n",
        "    train_loss = 0 \n",
        "    n_train = 0 \n",
        "    for data in tqdm(train):\n",
        "      encoder_inputs = data[\"input_ids\"]\n",
        "      decoder_ = data[\"labels\"]\n",
        "\n",
        "      encoder_optimizer.zero_grad()\n",
        "      decoder_optimizer.zero_grad()\n",
        "\n",
        "      hidden, encoder_hs = encoder(encoder_inputs)\n",
        "\n",
        "      decoder_inputs = decoder_[:, :-1]\n",
        "      decoder_labels = decoder_[:, 1:]\n",
        "      loss = 0 \n",
        "\n",
        "      if flg:\n",
        "        for i in range(decoder_inputs.size()[1]):\n",
        "          decoder_input = decoder_inputs[:, i] # decoder inputs に正解ラベルを順に用いる\n",
        "          output, hidden, _ = decoder(decoder_input, hidden, encoder_hs)\n",
        "          decoder_label = decoder_labels[:, i].view(-1)\n",
        "          loss += criterion(output, decoder_label)\n",
        "\n",
        "      else:\n",
        "        for i in range(decoder_inputs.size()[1]):\n",
        "          if i == 0:\n",
        "            decoder_input = decoder_inputs[:, i]\n",
        "          output, hidden, _ = decoder(decoder_input, hidden, encoder_hs)\n",
        "          decoder_label = decoder_labels[:, i].view(-1)\n",
        "          loss += criterion(output, decoder_label)\n",
        "          decoder_input = output.argmax(-1).view(-1, 1) # 予測値を次の decoder inputsにする\n",
        "\n",
        "      loss.backward()\n",
        "      encoder_optimizer.step()\n",
        "      decoder_optimizer.step()\n",
        "\n",
        "      train_loss += loss.item()\n",
        "      n_train += decoder_inputs.size()[0]\n",
        "\n",
        "    print(f\"{e+1}/{num_epochs} | train | loss:{train_loss/n_train:.3f}\")\n",
        "\n",
        "    encoder.eval()\n",
        "    decoder.eval()\n",
        "    n_val = 0 \n",
        "    loss_val = 0 \n",
        "    acc = 0 \n",
        "    n_val_acc = 0 \n",
        "\n",
        "    for data in tqdm(val):\n",
        "      encoder_inputs = data[\"input_ids\"]\n",
        "      decoder_ = data[\"labels\"]\n",
        "\n",
        "      with torch.no_grad():\n",
        "        hidden, encoder_hs = encoder(encoder_inputs)\n",
        "\n",
        "      decoder_inputs = decoder_[:, :-1]\n",
        "      decoder_labels = decoder_[:, 1:]\n",
        "      loss = 0 \n",
        "      for i in range(decoder_inputs.size()[1]):\n",
        "        if i == 0:\n",
        "          decoder_input = decoder_inputs[:, i]\n",
        "        output, hidden, _ = decoder(decoder_input, hidden, encoder_hs)\n",
        "        decoder_label = decoder_labels[:, i].view(-1)\n",
        "        loss += criterion(output, decoder_label)\n",
        "        decoder_input = output.argmax(-1).view(-1, 1)\n",
        "\n",
        "        pred = output.argmax(-1)\n",
        "        acc += torch.sum(pred == decoder_label).item()\n",
        "        n_val_acc += decoder_label.size()[0]\n",
        "      \n",
        "      loss_val += loss \n",
        "      n_val += decoder_inputs.size()[0]\n",
        "\n",
        "    print(f\"{e+1}/{num_epochs} | val | loss: {loss_val/n_val:.3f} accuracy: {acc/n_val_acc:.3f}\")\n",
        "\n",
        "    if best_val_loss > loss_val:\n",
        "      best_encoder = encoder \n",
        "      best_decoder = decoder \n",
        "      best_val_loss = loss_val \n",
        "\n",
        "  print(f\"best validation loss: {best_val_loss/n_val:.3f}\")\n",
        "\n",
        "  return best_encoder, best_decoder \n"
      ],
      "execution_count": 49,
      "outputs": []
    },
    {
      "cell_type": "code",
      "metadata": {
        "colab": {
          "base_uri": "https://localhost:8080/"
        },
        "id": "XqGUtvi7jXRL",
        "outputId": "060ca050-f420-4353-80c7-fa36ee92a0e8"
      },
      "source": [
        "EMBEDDING_DIM = 200\n",
        "HIDDEN_DIM = 100\n",
        "VOCAB_SIZE = len(word2index)\n",
        "\n",
        "encoder = Encoder(EMBEDDING_DIM, HIDDEN_DIM, VOCAB_SIZE)\n",
        "decoder = Decoder(EMBEDDING_DIM, HIDDEN_DIM, VOCAB_SIZE)\n",
        "\n",
        "encoder_optimizer = torch.optim.Adam(encoder.parameters(), lr=1e-2)\n",
        "decoder_optimizer = torch.optim.Adam(decoder.parameters(), lr=1e-3)\n",
        "criterion = torch.nn.CrossEntropyLoss()\n",
        "\n",
        "train_encoder, train_decoder = trainer(train, val, encoder, decoder, encoder_optimizer, decoder_optimizer, criterion, 5)"
      ],
      "execution_count": 85,
      "outputs": [
        {
          "output_type": "stream",
          "text": [
            "device: cpu\n"
          ],
          "name": "stdout"
        },
        {
          "output_type": "stream",
          "text": [
            "100%|██████████| 300/300 [00:33<00:00,  8.90it/s]\n"
          ],
          "name": "stderr"
        },
        {
          "output_type": "stream",
          "text": [
            "1/5 | train | loss:0.022\n"
          ],
          "name": "stdout"
        },
        {
          "output_type": "stream",
          "text": [
            "100%|██████████| 100/100 [00:03<00:00, 27.30it/s]\n"
          ],
          "name": "stderr"
        },
        {
          "output_type": "stream",
          "text": [
            "1/5 | val | loss: 0.001 accuracy: 0.998\n"
          ],
          "name": "stdout"
        },
        {
          "output_type": "stream",
          "text": [
            "100%|██████████| 300/300 [00:39<00:00,  7.67it/s]\n"
          ],
          "name": "stderr"
        },
        {
          "output_type": "stream",
          "text": [
            "2/5 | train | loss:0.002\n"
          ],
          "name": "stdout"
        },
        {
          "output_type": "stream",
          "text": [
            "100%|██████████| 100/100 [00:03<00:00, 25.11it/s]\n"
          ],
          "name": "stderr"
        },
        {
          "output_type": "stream",
          "text": [
            "2/5 | val | loss: 0.003 accuracy: 0.995\n"
          ],
          "name": "stdout"
        },
        {
          "output_type": "stream",
          "text": [
            "100%|██████████| 300/300 [00:43<00:00,  6.86it/s]\n"
          ],
          "name": "stderr"
        },
        {
          "output_type": "stream",
          "text": [
            "3/5 | train | loss:0.001\n"
          ],
          "name": "stdout"
        },
        {
          "output_type": "stream",
          "text": [
            "100%|██████████| 100/100 [00:03<00:00, 25.65it/s]\n"
          ],
          "name": "stderr"
        },
        {
          "output_type": "stream",
          "text": [
            "3/5 | val | loss: 0.007 accuracy: 0.987\n"
          ],
          "name": "stdout"
        },
        {
          "output_type": "stream",
          "text": [
            "100%|██████████| 300/300 [00:45<00:00,  6.65it/s]\n"
          ],
          "name": "stderr"
        },
        {
          "output_type": "stream",
          "text": [
            "4/5 | train | loss:0.001\n"
          ],
          "name": "stdout"
        },
        {
          "output_type": "stream",
          "text": [
            "100%|██████████| 100/100 [00:03<00:00, 25.33it/s]\n"
          ],
          "name": "stderr"
        },
        {
          "output_type": "stream",
          "text": [
            "4/5 | val | loss: 0.001 accuracy: 0.999\n"
          ],
          "name": "stdout"
        },
        {
          "output_type": "stream",
          "text": [
            "100%|██████████| 300/300 [00:48<00:00,  6.12it/s]\n"
          ],
          "name": "stderr"
        },
        {
          "output_type": "stream",
          "text": [
            "5/5 | train | loss:0.000\n"
          ],
          "name": "stdout"
        },
        {
          "output_type": "stream",
          "text": [
            "100%|██████████| 100/100 [00:04<00:00, 24.53it/s]\n"
          ],
          "name": "stderr"
        },
        {
          "output_type": "stream",
          "text": [
            "5/5 | val | loss: 0.001 accuracy: 0.999\n",
            "best validation loss: 0.001\n"
          ],
          "name": "stdout"
        }
      ]
    },
    {
      "cell_type": "markdown",
      "metadata": {
        "id": "B8_i7AYki7dP"
      },
      "source": [
        "### evaluate"
      ]
    },
    {
      "cell_type": "code",
      "metadata": {
        "colab": {
          "base_uri": "https://localhost:8080/"
        },
        "id": "xP-0a9UVjYCR",
        "outputId": "3e596773-f6c2-46ff-b444-3a38075cc2c7"
      },
      "source": [
        "def evaluate(test, encoder, decoder, criterion):\n",
        "  device = \"cuda:0\" if torch.cuda.is_available() else \"cpu\"\n",
        "  print(f\"device: {device}\")\n",
        "  \n",
        "  encoder.eval()\n",
        "  decoder.eval()\n",
        "\n",
        "  n_test = 0 \n",
        "  test_loss = 0 \n",
        "\n",
        "  n_test_acc = 0 \n",
        "  acc = 0 \n",
        "\n",
        "  predict = []\n",
        "  \n",
        "  for data in tqdm(test):\n",
        "    encoder_inputs = data[\"input_ids\"]\n",
        "    decoder_ = data[\"labels\"]\n",
        "\n",
        "    with torch.no_grad():\n",
        "      hidden, encoder_hs = encoder(encoder_inputs)\n",
        "\n",
        "    decoder_inputs = decoder_[:, :-1]\n",
        "    decoder_labels = decoder_[:, 1:]\n",
        "    loss = 0\n",
        "\n",
        "    pred_dummy = torch.zeros(decoder_inputs.size()[0], 1, dtype=torch.long, device=device)\n",
        "\n",
        "    for i in range(decoder_inputs.size()[1]):\n",
        "      if i == 0:\n",
        "        decoder_input = decoder_inputs[:, i]\n",
        "\n",
        "      with torch.no_grad():\n",
        "        output, hidden, _ = decoder(decoder_input, hidden, encoder_hs)\n",
        "      decoder_label = decoder_labels[:, i].view(-1)\n",
        "      loss += criterion(output, decoder_label)\n",
        "      pred = output.argmax(-1).view(-1)\n",
        "\n",
        "      acc += torch.sum(pred == decoder_label).item()\n",
        "      n_test_acc += decoder_label.size()[0]\n",
        "      decoder_input = output.argmax(-1).view(-1, 1)\n",
        "\n",
        "      pred_dummy = torch.cat((pred_dummy, pred.view(-1, 1)), dim=1)\n",
        "\n",
        "    predict.append(pred_dummy[:, 1:])\n",
        "\n",
        "    test_loss += loss \n",
        "    n_test += decoder_inputs.size()[0]\n",
        "\n",
        "  print(f\"| test | loss: {test_loss/n_test:.3f} accuracy: {acc/n_test_acc:.3f}\")\n",
        "\n",
        "  return predict \n",
        "\n",
        "  \n",
        "pred = evaluate(val, train_encoder, train_decoder, criterion)"
      ],
      "execution_count": 86,
      "outputs": [
        {
          "output_type": "stream",
          "text": [
            "device: cpu\n"
          ],
          "name": "stdout"
        },
        {
          "output_type": "stream",
          "text": [
            "100%|██████████| 100/100 [00:03<00:00, 25.24it/s]"
          ],
          "name": "stderr"
        },
        {
          "output_type": "stream",
          "text": [
            "| test | loss: 0.001 accuracy: 0.999\n"
          ],
          "name": "stdout"
        },
        {
          "output_type": "stream",
          "text": [
            "\n"
          ],
          "name": "stderr"
        }
      ]
    },
    {
      "cell_type": "markdown",
      "metadata": {
        "id": "GZOMIVFhi7aj"
      },
      "source": [
        "### saving model \n",
        "+ onnxruntime\n",
        "+ pth"
      ]
    },
    {
      "cell_type": "code",
      "metadata": {
        "colab": {
          "base_uri": "https://localhost:8080/"
        },
        "id": "Q7m2LrQKjZC2",
        "outputId": "70ea4ed1-b9f4-48a3-c6e5-77317dc827fa"
      },
      "source": [
        "import torch.onnx as onnx \n",
        "\n",
        "a = torch.rand(100, 29).long()\n",
        "onnx.export(train_encoder,\n",
        "            a,\n",
        "            \"encoder_attenstion_plot.onnx\",\n",
        "            output_names=[\"hidden\", \"hidden_hs\"],\n",
        "            input_names=[\"input_ids\"])"
      ],
      "execution_count": 92,
      "outputs": [
        {
          "output_type": "stream",
          "text": [
            "/usr/local/lib/python3.7/dist-packages/torch/onnx/symbolic_opset9.py:2099: UserWarning: Exporting a model to ONNX with a batch_size other than 1, with a variable length with LSTM can cause an error when running the ONNX model with a different batch size. Make sure to save the model with a batch size of 1, or define the initial states (h0/c0) as inputs of the model. \n",
            "  \"or define the initial states (h0/c0) as inputs of the model. \")\n"
          ],
          "name": "stderr"
        }
      ]
    },
    {
      "cell_type": "code",
      "metadata": {
        "id": "rPIuC_mzjY8M"
      },
      "source": [
        "i = torch.rand(100, 1).long()\n",
        "h = torch.rand(100, 100)\n",
        "hs = torch.rand(100, 29, 100)\n",
        "\n",
        "onnx.export(train_decoder,\n",
        "            (i, h, hs),\n",
        "            \"decoder_attention_plot.onnx\",\n",
        "            output_names=[\"output\", \"hidden\", \"attention\"],\n",
        "            input_names=[\"input_ids\", \"hidden\", \"encoder_hidden_hs\"])\n"
      ],
      "execution_count": 93,
      "outputs": []
    },
    {
      "cell_type": "code",
      "metadata": {
        "id": "nwBSB_JUUv-G"
      },
      "source": [
        "torch.save(train_encoder.state_dict(), \"encoder_attention_plot.pth\")\n",
        "torch.save(train_decoder.state_dict(), \"decoder_attention_plot.pth\")"
      ],
      "execution_count": 94,
      "outputs": []
    },
    {
      "cell_type": "markdown",
      "metadata": {
        "id": "ZnyEztgMjLw7"
      },
      "source": [
        "### visualization \n",
        "+ attention weights \n",
        "+ result for pandas "
      ]
    },
    {
      "cell_type": "code",
      "metadata": {
        "id": "YyPElHS9g3hh"
      },
      "source": [
        "index2word = {v: k for k, v in word2index.items()}\n",
        "\n",
        "row = []\n",
        "\n",
        "for i, data in enumerate(val):\n",
        "  input_ids = data[\"input_ids\"]\n",
        "  labels = data[\"labels\"]\n",
        "  predi = pred[i]\n",
        "\n",
        "  for inp, lab, pre in zip(input_ids, labels, predi):\n",
        "    x = [index2word[xx] for xx in inp.numpy().tolist()]\n",
        "    t = [index2word[tt] for tt in lab.numpy().tolist()[1:]]\n",
        "    y = [index2word[yy] for yy in pre.numpy().tolist()]\n",
        "\n",
        "    x_str = \"\".join(x)\n",
        "    t_str = \"\".join(t)\n",
        "    y_str = \"\".join(y)\n",
        "\n",
        "    judge = 1 if t_str == y_str else 0\n",
        "\n",
        "    row.append([x_str, t_str, y_str, judge])"
      ],
      "execution_count": 87,
      "outputs": []
    },
    {
      "cell_type": "code",
      "metadata": {
        "colab": {
          "base_uri": "https://localhost:8080/",
          "height": 355
        },
        "id": "J_Yf6g0pi37_",
        "outputId": "3bd063f7-37df-4c23-aaa0-2bc0a729e8c1"
      },
      "source": [
        "import pandas as pd \n",
        "\n",
        "df = pd.DataFrame(row, columns=[\"inputs\", \"labels\", \"prediction\", \"judge\"])\n",
        "df.sample(10)"
      ],
      "execution_count": 90,
      "outputs": [
        {
          "output_type": "execute_result",
          "data": {
            "text/html": [
              "<div>\n",
              "<style scoped>\n",
              "    .dataframe tbody tr th:only-of-type {\n",
              "        vertical-align: middle;\n",
              "    }\n",
              "\n",
              "    .dataframe tbody tr th {\n",
              "        vertical-align: top;\n",
              "    }\n",
              "\n",
              "    .dataframe thead th {\n",
              "        text-align: right;\n",
              "    }\n",
              "</style>\n",
              "<table border=\"1\" class=\"dataframe\">\n",
              "  <thead>\n",
              "    <tr style=\"text-align: right;\">\n",
              "      <th></th>\n",
              "      <th>inputs</th>\n",
              "      <th>labels</th>\n",
              "      <th>prediction</th>\n",
              "      <th>judge</th>\n",
              "    </tr>\n",
              "  </thead>\n",
              "  <tbody>\n",
              "    <tr>\n",
              "      <th>427</th>\n",
              "      <td>7/12/70</td>\n",
              "      <td>1970-07-12</td>\n",
              "      <td>1970-07-05</td>\n",
              "      <td>0</td>\n",
              "    </tr>\n",
              "    <tr>\n",
              "      <th>418</th>\n",
              "      <td>Sunday, November 2, 2014</td>\n",
              "      <td>2014-11-02</td>\n",
              "      <td>2011-05-14</td>\n",
              "      <td>0</td>\n",
              "    </tr>\n",
              "    <tr>\n",
              "      <th>1225</th>\n",
              "      <td>4/21/88</td>\n",
              "      <td>1988-04-21</td>\n",
              "      <td>1984-09-21</td>\n",
              "      <td>0</td>\n",
              "    </tr>\n",
              "    <tr>\n",
              "      <th>7824</th>\n",
              "      <td>12/6/09</td>\n",
              "      <td>2009-12-06</td>\n",
              "      <td>1984-10-20</td>\n",
              "      <td>0</td>\n",
              "    </tr>\n",
              "    <tr>\n",
              "      <th>3878</th>\n",
              "      <td>Sunday, July 16, 2017</td>\n",
              "      <td>2017-07-16</td>\n",
              "      <td>1992-12-16</td>\n",
              "      <td>0</td>\n",
              "    </tr>\n",
              "    <tr>\n",
              "      <th>9871</th>\n",
              "      <td>Mar 23, 1970</td>\n",
              "      <td>1970-03-23</td>\n",
              "      <td>1993-11-02</td>\n",
              "      <td>0</td>\n",
              "    </tr>\n",
              "    <tr>\n",
              "      <th>2885</th>\n",
              "      <td>aug 29, 1992</td>\n",
              "      <td>1992-08-29</td>\n",
              "      <td>2006-06-09</td>\n",
              "      <td>0</td>\n",
              "    </tr>\n",
              "    <tr>\n",
              "      <th>4542</th>\n",
              "      <td>12/17/77</td>\n",
              "      <td>1977-12-17</td>\n",
              "      <td>1995-04-05</td>\n",
              "      <td>0</td>\n",
              "    </tr>\n",
              "    <tr>\n",
              "      <th>6189</th>\n",
              "      <td>NOV 19, 2008</td>\n",
              "      <td>2008-11-19</td>\n",
              "      <td>1988-05-18</td>\n",
              "      <td>0</td>\n",
              "    </tr>\n",
              "    <tr>\n",
              "      <th>8078</th>\n",
              "      <td>Jan 26, 1991</td>\n",
              "      <td>1991-01-26</td>\n",
              "      <td>2005-09-30</td>\n",
              "      <td>0</td>\n",
              "    </tr>\n",
              "  </tbody>\n",
              "</table>\n",
              "</div>"
            ],
            "text/plain": [
              "                             inputs      labels  prediction  judge\n",
              "427   7/12/70                        1970-07-12  1970-07-05      0\n",
              "418   Sunday, November 2, 2014       2014-11-02  2011-05-14      0\n",
              "1225  4/21/88                        1988-04-21  1984-09-21      0\n",
              "7824  12/6/09                        2009-12-06  1984-10-20      0\n",
              "3878  Sunday, July 16, 2017          2017-07-16  1992-12-16      0\n",
              "9871  Mar 23, 1970                   1970-03-23  1993-11-02      0\n",
              "2885  aug 29, 1992                   1992-08-29  2006-06-09      0\n",
              "4542  12/17/77                       1977-12-17  1995-04-05      0\n",
              "6189  NOV 19, 2008                   2008-11-19  1988-05-18      0\n",
              "8078  Jan 26, 1991                   1991-01-26  2005-09-30      0"
            ]
          },
          "metadata": {
            "tags": []
          },
          "execution_count": 90
        }
      ]
    },
    {
      "cell_type": "code",
      "metadata": {
        "colab": {
          "base_uri": "https://localhost:8080/",
          "height": 1000
        },
        "id": "5kCOQeqMK-MC",
        "outputId": "08417e04-0789-434a-e460-d6485d0319a8"
      },
      "source": [
        "import seaborn as sns \n",
        "import matplotlib.pyplot as plt\n",
        "\n",
        "\n",
        "def plot_attn(test, train_encoder, train_decoder, num_range=3):\n",
        "\n",
        "  for data in test:\n",
        "    encoder_inputs = data[\"input_ids\"]\n",
        "    decoder_ = data[\"labels\"]\n",
        "\n",
        "    with torch.no_grad():\n",
        "      hidden, encoder_hs = train_encoder(encoder_inputs)\n",
        "\n",
        "    decoder_inputs = decoder_[:, :-1]\n",
        "    decoder_labels = decoder_[:, 1:]\n",
        "\n",
        "    attn = torch.zeros(decoder_inputs.size()[0], encoder_inputs.size()[1], 1)\n",
        "    predi = torch.zeros(decoder_inputs.size()[0], 1)\n",
        "\n",
        "    for i in range(decoder_inputs.size()[1]):\n",
        "      if i == 0:\n",
        "        decoder_input = decoder_inputs[:, i]\n",
        "      with torch.no_grad():\n",
        "        output, hidden, att = train_decoder(decoder_input, hidden, encoder_hs)\n",
        "      attn = torch.cat((attn, att), dim=2)\n",
        "      pred = output.argmax(-1).view(-1)\n",
        "      decoder_input = output.argmax(-1).view(-1, 1)\n",
        "      predi = torch.cat((predi, pred.view(-1, 1)), dim=1)\n",
        "\n",
        "    attn = attn[:, :, 1:].numpy()\n",
        "    inputs = encoder_inputs.numpy().tolist()\n",
        "    corr = decoder_[:, 1:].numpy().tolist()\n",
        "\n",
        "    for i in range(num_range):\n",
        "      df = pd.DataFrame(attn[i, :, :].reshape(-1, attn.shape[2]),\n",
        "                        index=[index2word[xx] for xx in inputs[i]],\n",
        "                        columns=[index2word[tt] for tt in corr[i]],\n",
        "                        )\n",
        "      \n",
        "      \n",
        "      plt.figure(figsize=(12, 8))\n",
        "      fig = sns.heatmap(df.T, xticklabels=1, yticklabels=1, square=True, linewidths=3,\n",
        "                  cbar_kws=dict(use_gridspec=False, location=\"top\"))\n",
        "      fig = fig.get_figure()\n",
        "      fig.savefig(f\"attention_plot_{i}.png\")\n",
        "      \n",
        "    break \n",
        "\n",
        "plot_attn(test, train_encoder, train_decoder)\n",
        "    "
      ],
      "execution_count": 96,
      "outputs": [
        {
          "output_type": "display_data",
          "data": {
            "image/png": "[encoded data removed]",
            "text/plain": [
              "<Figure size 864x576 with 2 Axes>"
            ]
          },
          "metadata": {
            "tags": [],
            "needs_background": "light"
          }
        },
        {
          "output_type": "display_data",
          "data": {
            "image/png": "[encoded data removed]",
            "text/plain": [
              "<Figure size 864x576 with 2 Axes>"
            ]
          },
          "metadata": {
            "tags": [],
            "needs_background": "light"
          }
        },
        {
          "output_type": "display_data",
          "data": {
            "image/png": "[encoded data removed]",
            "text/plain": [
              "<Figure size 864x576 with 2 Axes>"
            ]
          },
          "metadata": {
            "tags": [],
            "needs_background": "light"
          }
        }
      ]
    }
  ]
}